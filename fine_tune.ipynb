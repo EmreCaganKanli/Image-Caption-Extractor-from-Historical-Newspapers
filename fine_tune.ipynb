{
 "cells": [
  {
   "cell_type": "code",
   "execution_count": null,
   "id": "abd16718",
   "metadata": {},
   "outputs": [],
   "source": [
    "import layoutparser as lp\n",
    "import cv2\n",
    "import matplotlib.pyplot as plt\n",
    "import numpy as np\n",
    "from PIL import Image\n",
    "from layoutparser.models import Detectron2LayoutModel\n",
    "from detectron2.modeling.roi_heads.fast_rcnn import FastRCNNOutputLayers\n",
    "from ultralytics import YOLO\n",
    "from detectron2.config import get_cfg\n",
    "from detectron2.engine import DefaultTrainer\n",
    "import os\n",
    "from detectron2.data import MetadataCatalog"
   ]
  },
  {
   "cell_type": "code",
   "execution_count": 2,
   "id": "a0b72e44",
   "metadata": {},
   "outputs": [],
   "source": [
    "from detectron2.data.datasets import register_coco_instances\n",
    "\n",
    "register_coco_instances(\"newspaper_train\", {}, \"coco_annotations/train.json\", \"train_photos/\")\n",
    "register_coco_instances(\"newspaper_val\", {}, \"coco_annotations/val.json\", \"val_photos/\")\n"
   ]
  },
  {
   "cell_type": "code",
   "execution_count": null,
   "id": "214becd0",
   "metadata": {},
   "outputs": [],
   "source": [
    "model_newspaper = Detectron2LayoutModel(\n",
    "    config_path='config_newspaper.yml',\n",
    "    label_map={\n",
    "        0: \"Photograph\",\n",
    "        1: \"Illustration\",\n",
    "        2: \"Map\",\n",
    "        3: \"Comics/Cartoon\",\n",
    "        4: \"Editorial Cartoon\",\n",
    "        5: \"Headline\",\n",
    "        6: \"Advertisement\"\n",
    "    },\n",
    "    extra_config=[\"MODEL.ROI_HEADS.SCORE_THRESH_TEST\", 0.5],\n",
    "    device=\"cuda\"\n",
    ")\n"
   ]
  },
  {
   "cell_type": "code",
   "execution_count": 4,
   "id": "6d1410ff",
   "metadata": {},
   "outputs": [],
   "source": [
    "model = model_newspaper.model.model\n",
    "old_head = model.roi_heads.box_predictor\n",
    "old_cls_weight = old_head.cls_score.weight.data.clone()\n",
    "old_cls_bias = old_head.cls_score.bias.data.clone()\n",
    "old_bbox_weight = old_head.bbox_pred.weight.data.clone()\n",
    "old_bbox_bias = old_head.bbox_pred.bias.data.clone()\n",
    "\n",
    "old_state_dict = model.state_dict()\n",
    "filtered_state_dict = {\n",
    "    k: v for k, v in old_state_dict.items()\n",
    "    if not k.startswith(\"roi_heads.box_predictor.\")\n",
    "}"
   ]
  },
  {
   "cell_type": "code",
   "execution_count": null,
   "id": "cc1d2f0c",
   "metadata": {},
   "outputs": [],
   "source": [
    "model_newspaper_2 = Detectron2LayoutModel(\n",
    "    config_path='config_newspaper_2class.yml',\n",
    "    label_map={\n",
    "        0: \"Illustration\",\n",
    "        1: \"Headline\",\n",
    "    },\n",
    "    extra_config=[\"MODEL.ROI_HEADS.SCORE_THRESH_TEST\", 0.5],\n",
    "    device=\"cuda\"\n",
    ")\n"
   ]
  },
  {
   "cell_type": "code",
   "execution_count": 6,
   "id": "802e814c",
   "metadata": {},
   "outputs": [],
   "source": [
    "model_2 = model_newspaper_2.model.model\n",
    "new_state_dict = model_2.state_dict()"
   ]
  },
  {
   "cell_type": "code",
   "execution_count": 7,
   "id": "f6b1fe38",
   "metadata": {},
   "outputs": [],
   "source": [
    "num_new_classes = 2\n",
    "in_features = model_2.roi_heads.box_predictor.cls_score.in_features\n",
    "\n",
    "new_head = FastRCNNOutputLayers(\n",
    "    input_shape=model_2.roi_heads.box_head.output_shape,\n",
    "    box2box_transform=model_2.roi_heads.box_predictor.box2box_transform,\n",
    "    num_classes=num_new_classes,\n",
    ")\n",
    "new_head = new_head.to(\"cuda\")\n"
   ]
  },
  {
   "cell_type": "code",
   "execution_count": 8,
   "id": "874a8d92",
   "metadata": {},
   "outputs": [],
   "source": [
    "# CLASS 0: \"Illustration\" ← old \"Illustration\" (1)\n",
    "new_head.cls_score.weight.data[0] = old_cls_weight[0]\n",
    "new_head.cls_score.bias.data[0] = old_cls_bias[0]\n",
    "\n",
    "# CLASS 1: \"Title\" ← old \"Headline\" (5)\n",
    "new_head.cls_score.weight.data[1] = old_cls_weight[5]\n",
    "new_head.cls_score.bias.data[1] = old_cls_bias[5]\n",
    "\n",
    "# Background CLASS\n",
    "new_head.cls_score.weight.data[-1] = old_cls_weight[-1]\n",
    "new_head.cls_score.bias.data[-1] = old_cls_bias[-1]\n",
    "\n",
    "# Now for bounding box regression:\n",
    "# For class-specific box regression: 4 values per class\n",
    "\n",
    "# CLASS 0: Illustration (1)\n",
    "new_head.bbox_pred.weight.data[0*4:1*4] = old_bbox_weight[1*4:2*4]\n",
    "new_head.bbox_pred.bias.data[0*4:1*4] = old_bbox_bias[1*4:2*4]\n",
    "\n",
    "# CLASS 1: Headline (5)\n",
    "new_head.bbox_pred.weight.data[1*4:2*4] = old_bbox_weight[5*4:6*4]\n",
    "new_head.bbox_pred.bias.data[1*4:2*4] = old_bbox_bias[5*4:6*4]\n"
   ]
  },
  {
   "cell_type": "code",
   "execution_count": 9,
   "id": "12aca33c",
   "metadata": {},
   "outputs": [],
   "source": [
    "model_2.load_state_dict(filtered_state_dict, strict=False)\n",
    "model_2.roi_heads.box_predictor = new_head\n"
   ]
  },
  {
   "cell_type": "code",
   "execution_count": 10,
   "id": "71219646",
   "metadata": {},
   "outputs": [],
   "source": [
    "# Config setup\n",
    "cfg = get_cfg()\n",
    "cfg.INPUT.MIN_SIZE_TRAIN = (800,)\n",
    "cfg.INPUT.MAX_SIZE_TRAIN = 1333\n",
    "cfg.INPUT.MIN_SIZE_TRAIN_SAMPLING = \"choice\"\n",
    "cfg.DATASETS.TRAIN = (\"newspaper_train\",)\n",
    "cfg.DATASETS.TEST = (\"newspaper_val\",)\n",
    "cfg.DATALOADER.NUM_WORKERS = 2\n",
    "cfg.OUTPUT_DIR = \"./output\"\n",
    "cfg.SOLVER.IMS_PER_BATCH = 2\n",
    "cfg.SOLVER.BASE_LR = 0.00025\n",
    "cfg.SOLVER.MAX_ITER = 3000\n",
    "cfg.SOLVER.STEPS = [1000, 2000]    \n",
    "cfg.SOLVER.GAMMA = 0.2              \n",
    "cfg.MODEL.ROI_HEADS.BATCH_SIZE_PER_IMAGE = 128\n",
    "cfg.MODEL.ROI_HEADS.NUM_CLASSES = 2  # Illustration, Title\n",
    "cfg.MODEL.BACKBONE.FREEZE_AT = 5\n",
    "MetadataCatalog.get(\"newspaper_train\").thing_classes = [\"Illustration\", \"Title\"]\n",
    "MetadataCatalog.get(\"newspaper_val\").thing_classes = [\"Illustration\", \"Title\"]\n",
    "\n",
    "\n",
    "os.makedirs(cfg.OUTPUT_DIR, exist_ok=True)"
   ]
  },
  {
   "cell_type": "code",
   "execution_count": null,
   "id": "de300568",
   "metadata": {},
   "outputs": [],
   "source": [
    "from detectron2.engine import DefaultTrainer\n",
    "\n",
    "custom_model = model_2  \n",
    "\n",
    "class CustomTrainer(DefaultTrainer):\n",
    "    @classmethod\n",
    "    def build_model(cls, cfg):\n",
    "        return custom_model\n",
    "\n",
    "trainer = CustomTrainer(cfg)\n",
    "trainer.resume_or_load(resume=False)\n",
    "\n",
    "\n",
    "import torch\n",
    "print(torch.cuda.is_available())\n",
    "\n",
    "trainer.train()\n"
   ]
  }
 ],
 "metadata": {
  "kernelspec": {
   "display_name": "detectron2_env",
   "language": "python",
   "name": "python3"
  },
  "language_info": {
   "codemirror_mode": {
    "name": "ipython",
    "version": 3
   },
   "file_extension": ".py",
   "mimetype": "text/x-python",
   "name": "python",
   "nbconvert_exporter": "python",
   "pygments_lexer": "ipython3",
   "version": "3.10.16"
  }
 },
 "nbformat": 4,
 "nbformat_minor": 5
}
